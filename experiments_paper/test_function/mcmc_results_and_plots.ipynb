{
 "cells": [
  {
   "cell_type": "markdown",
   "id": "5f180531",
   "metadata": {},
   "source": [
    "Creating the test function and create instance of Objective."
   ]
  },
  {
   "cell_type": "code",
   "execution_count": 1,
   "id": "252baa7d-2995-40c6-b7cc-7fc1ac8b5ad5",
   "metadata": {},
   "outputs": [],
   "source": [
    "from hepaid.search.policy.mcmc import smooth_box_mask, smooth_mask\n",
    "from hepaid.search.objective.objective_fn import Objective\n",
    "import numpy as np\n",
    "\n",
    "from omegaconf import OmegaConf\n",
    "def booth(x):\n",
    "    '''f(1,3)=0, -10 < x, y < 10'''\n",
    "    x, y = x[0], x[1]\n",
    "    term1 = (x+2*y-7)**2\n",
    "    term2 = (2*x+y-5)**2\n",
    "    return np.log(term1 + term2)\n",
    "\n",
    "def himmelblau(x):\n",
    "    '''-5 < x, y < 5'''\n",
    "    x, y = x[0], x[1]\n",
    "    term1 = (x**2+y-11)**2\n",
    "    term2 = (x+y**2-7)**2\n",
    "    return np.log(term1 + term2)\n",
    "\n",
    "\n",
    "def himmelblau_booth(x):\n",
    "    output = {\n",
    "        'x': x[0],\n",
    "        'y': x[1],\n",
    "        'himmelblau': himmelblau(x),\n",
    "        'booth': booth(x)\n",
    "        }\n",
    "    return output\n",
    "\n",
    "\n",
    "space_config = OmegaConf.create({'input_space': {\n",
    "    'x': {\n",
    "        'lower': -5,\n",
    "        'upper': 5.,\n",
    "        'distribution': 'uniform',\n",
    "    },\n",
    "    'y': {\n",
    "        'lower': -5,\n",
    "        'upper': 5.,\n",
    "        'distribution': 'uniform',\n",
    "    },\n",
    "},\n",
    "'output_parameters': ['himmelblau', 'booth'], \n",
    "'objectives': {\n",
    "    'double_constraint': {\n",
    "        'booth': [['gt', 2],['lt',4]]\n",
    "    },\n",
    "    'single_constraint': {\n",
    "        'himmelblau':['lt', 3.],\n",
    "    },\n",
    "    'gaussian_constraint': {\n",
    "\n",
    "    }\n",
    "    }\n",
    "})\n",
    "\n",
    "objective_function = Objective(\n",
    "            space_config,\n",
    "            himmelblau_booth,\n",
    "            cas=False\n",
    "            )\n",
    "\n",
    "def him_boo(x):\n",
    "    result = objective_function.sample(\n",
    "        x.reshape(1,-1), is_normalised=True\n",
    "    )\n",
    "    h = result['himmelblau']\n",
    "    b = result['booth']\n",
    "\n",
    "    lh = 1 - smooth_mask(h,3., 1e-3)\n",
    "    lb = smooth_box_mask(b, 2., 4., 1e-3 ) \n",
    "    return  np.log(lh*lb+ 1e-8)"
   ]
  },
  {
   "cell_type": "code",
   "execution_count": 2,
   "id": "bcbeef55",
   "metadata": {},
   "outputs": [],
   "source": [
    "from hepaid.search.policy.mcmc import MCMCMH"
   ]
  },
  {
   "cell_type": "code",
   "execution_count": 3,
   "id": "9531eb64",
   "metadata": {},
   "outputs": [],
   "source": [
    "mcmc_config = OmegaConf.create({\n",
    "    \"checkpoint\": {\"n_step_save\": 500, \"name\": 'chckpnt'},\n",
    "    \"run_name\": 'mcmc_save/run_1',\n",
    "    \"total_iterations\":2210,\n",
    "    \"initial_scale\":.4,\n",
    "    \"adapt_frequency\":100,\n",
    "    \"burn_in\":1000\n",
    "})\n",
    "\n",
    "mcmc = MCMCMH(\n",
    "    objective_function=objective_function,\n",
    "    hyper_parameters=mcmc_config,\n",
    ")"
   ]
  },
  {
   "cell_type": "code",
   "execution_count": 4,
   "id": "f8c21741",
   "metadata": {},
   "outputs": [],
   "source": [
    "mcmc.load_checkpoint()"
   ]
  },
  {
   "cell_type": "code",
   "execution_count": 5,
   "id": "425a24db",
   "metadata": {},
   "outputs": [
    {
     "data": {
      "text/plain": [
       "3274"
      ]
     },
     "execution_count": 5,
     "metadata": {},
     "output_type": "execute_result"
    }
   ],
   "source": [
    "\n",
    "objective_function.satisfactory.prod(axis=1).sum()"
   ]
  },
  {
   "cell_type": "code",
   "execution_count": 6,
   "id": "574f5385",
   "metadata": {},
   "outputs": [
    {
     "data": {
      "application/vnd.jupyter.widget-view+json": {
       "model_id": "42ab6ae1ed334c4681cb2f0215bb46ae",
       "version_major": 2,
       "version_minor": 0
      },
      "text/plain": [
       "Output()"
      ]
     },
     "metadata": {},
     "output_type": "display_data"
    },
    {
     "data": {
      "text/html": [
       "<pre style=\"white-space:pre;overflow-x:auto;line-height:normal;font-family:Menlo,'DejaVu Sans Mono',consolas,'Courier New',monospace\"></pre>\n"
      ],
      "text/plain": []
     },
     "metadata": {},
     "output_type": "display_data"
    },
    {
     "data": {
      "text/html": [
       "<pre style=\"white-space:pre;overflow-x:auto;line-height:normal;font-family:Menlo,'DejaVu Sans Mono',consolas,'Courier New',monospace\">\n",
       "</pre>\n"
      ],
      "text/plain": [
       "\n"
      ]
     },
     "metadata": {},
     "output_type": "display_data"
    },
    {
     "data": {
      "text/plain": [
       "True"
      ]
     },
     "execution_count": 6,
     "metadata": {},
     "output_type": "execute_result"
    }
   ],
   "source": [
    "mcmc.run()"
   ]
  },
  {
   "cell_type": "code",
   "execution_count": 7,
   "id": "b6753b95",
   "metadata": {},
   "outputs": [
    {
     "data": {
      "text/plain": [
       "[[-2.080879458002573, 4.607806628090444],\n",
       " [-3.222950919605309, -0.5624929554032398],\n",
       " [3.812392619932666, -2.729793493911305],\n",
       " [3.4888371565598177, 2.1861847244150203],\n",
       " [1.8410466370857232, 1.5101206902899156],\n",
       " [-3.9268006617621376, -4.5923349143698955],\n",
       " [1.9147861192900262, -1.2264463768727483],\n",
       " [0.5832198339817882, 4.437777527248905],\n",
       " [-2.302685782300364, 0.6605765440879345],\n",
       " [1.4350252969001422, -4.3156409589669495]]"
      ]
     },
     "execution_count": 7,
     "metadata": {},
     "output_type": "execute_result"
    }
   ],
   "source": [
    "x = objective_function.space.rvs(10)\n",
    "x"
   ]
  },
  {
   "cell_type": "code",
   "execution_count": 8,
   "id": "993cc6aa",
   "metadata": {},
   "outputs": [],
   "source": [
    "from hepaid.search.parallel.modules import run_x_with_pool"
   ]
  },
  {
   "cell_type": "code",
   "execution_count": 13,
   "id": "1e09eb8a",
   "metadata": {},
   "outputs": [],
   "source": [
    "for i in result:\n",
    "    print(i)"
   ]
  },
  {
   "cell_type": "code",
   "execution_count": 9,
   "id": "1e463589",
   "metadata": {},
   "outputs": [
    {
     "name": "stderr",
     "output_type": "stream",
     "text": [
      "2024-07-03 20:01:13,813\tINFO worker.py:1724 -- Started a local Ray instance.\n"
     ]
    }
   ],
   "source": [
    "result = run_x_with_pool(x,4, objective_function.function)"
   ]
  },
  {
   "cell_type": "markdown",
   "id": "8200eab5",
   "metadata": {},
   "source": [
    "### Ground Truth"
   ]
  },
  {
   "cell_type": "code",
   "execution_count": null,
   "id": "704339c0-6f92-415e-9d95-857632b5054b",
   "metadata": {},
   "outputs": [],
   "source": [
    "import numpy as np\n",
    "\n",
    "\n",
    "x = np.linspace(0, 1, 200)\n",
    "y = np.linspace(0, 1, 200)\n",
    "X, Y = np.meshgrid(x, y)\n",
    "\n",
    "\n",
    "# Gaussian function\n",
    "Z =  np.exp(-((X)**2 / (2) + (Y )**2 / (2)))\n",
    "\n",
    "xy = np.vstack((X.flatten(), Y.flatten())).T\n",
    "\n",
    "lhs = []\n",
    "for point in xy:\n",
    "    lhs.append(him_boo(point))"
   ]
  },
  {
   "cell_type": "code",
   "execution_count": null,
   "id": "463c7482-5441-479c-ab34-bdd444b7313f",
   "metadata": {},
   "outputs": [],
   "source": [
    "df = objective_function.as_dataframe()\n",
    "df['lhs'] = lhs\n",
    "df.head()"
   ]
  },
  {
   "cell_type": "code",
   "execution_count": null,
   "id": "19bb6c0a-eb25-4fb3-aaae-d10b87bf4fda",
   "metadata": {},
   "outputs": [],
   "source": [
    "import matplotlib.pyplot as plt \n",
    "text_configuration = {\n",
    "    'usetex': True,\n",
    "    'axes_labels_size': 14,\n",
    "    'ticks_labels_size': 12,\n",
    "    'legend_font_size': 12\n",
    "}\n",
    "\n",
    "plt.rc('text', usetex=True)\n",
    "plt.rc('axes', titlesize=text_configuration['axes_labels_size'])\n",
    "plt.rc('axes', labelsize=text_configuration['axes_labels_size'])\n",
    "plt.rc('xtick', labelsize=text_configuration['ticks_labels_size'])\n",
    "plt.rc('ytick', labelsize=text_configuration['ticks_labels_size'])\n",
    "plt.rc('legend', fontsize=text_configuration['legend_font_size'])\n",
    "plt.rc('axes', linewidth=0.2)"
   ]
  },
  {
   "cell_type": "code",
   "execution_count": null,
   "id": "52f78c3a-8a23-4edf-a8c7-e98e24fbd033",
   "metadata": {},
   "outputs": [],
   "source": [
    "# Plot contour levels\n",
    "fig, axs = plt.subplots(1,3, figsize=(9,3))\n",
    "ax = axs[1]\n",
    "\n",
    "ax.pcolormesh(\n",
    "    df.x.to_numpy().reshape(X.shape),\n",
    "    df.y.to_numpy().reshape(Y.shape),\n",
    "    df.himmelblau.to_numpy().reshape(Z.shape), \n",
    "           cmap='winter')\n",
    "ax.contourf( df.x.to_numpy().reshape(X.shape),\n",
    "    df.y.to_numpy().reshape(Y.shape),  \n",
    "           df.himmelblau.to_numpy().reshape(Z.shape), \n",
    "           levels=[-10, 3], \n",
    "             colors='black',  alpha=0.3)\n",
    "ax.contour( df.x.to_numpy().reshape(X.shape),\n",
    "    df.y.to_numpy().reshape(Y.shape),  \n",
    "           df.himmelblau.to_numpy().reshape(Z.shape), \n",
    "           levels=[-10, 3], \n",
    "              colors='black', alpha=0.5)\n",
    "ax.set_title(r'$f_H(\\theta_1, \\theta_2)$')\n",
    "#ax.clabel(contour, inline=True, fontsize=8)\n",
    "\n",
    "ax = axs[0]\n",
    "\n",
    "ax.pcolormesh( df.x.to_numpy().reshape(X.shape),\n",
    "    df.y.to_numpy().reshape(Y.shape),\n",
    "         df.booth.to_numpy().reshape(Z.shape), \n",
    "          cmap='winter')\n",
    "ax.contourf( df.x.to_numpy().reshape(X.shape),\n",
    "    df.y.to_numpy().reshape(Y.shape), \n",
    "           df.booth.to_numpy().reshape(Z.shape), \n",
    "           levels=[2, 4], \n",
    "              colors='black',  alpha=0.3)\n",
    "ax.contour( df.x.to_numpy().reshape(X.shape),\n",
    "    df.y.to_numpy().reshape(Y.shape),  \n",
    "           df.booth.to_numpy().reshape(Z.shape), \n",
    "           levels=[2, 4], \n",
    "             colors='black', alpha=0.5)\n",
    "ax.set_title(r'$f_B(\\theta_1, \\theta_2)$')\n",
    "\n",
    "\n",
    "\n",
    "ax = axs[2]\n",
    "Z_ = df.lhs.to_numpy().reshape(Z.shape)\n",
    "\n",
    "contour_filled = ax.contourf( df.x.to_numpy().reshape(X.shape),\n",
    "    df.y.to_numpy().reshape(Y.shape), Z_, levels=[-1, np.inf], colors='black', alpha=0.5)\n",
    "ax.contour( df.x.to_numpy().reshape(X.shape),\n",
    "    df.y.to_numpy().reshape(Y.shape), Z_, levels=[-1, np.inf], colors='black', alpha=0.5, linestyles='dotted')\n",
    "ax.set_title(r'$\\mathcal{S} \\mathrm{\\ region}$')\n",
    "#plt.clabel(contour, inline=True, fontsize=8)\n",
    "#ax.title('Contour Levels of a Gaussian Function')\n",
    "\n",
    "#plt.grid(True)\n",
    "#plt.colorbar()\n",
    "\n",
    "for ax in axs:\n",
    "    ax.set_xlabel(r'$\\theta_1$')\n",
    "    ax.set_ylabel(r'$\\theta_2$')\n",
    "plt.tight_layout()\n",
    "plt.grid(True)\n",
    "#plt.savefig('test_function_truth.pdf')\n",
    "plt.show()"
   ]
  },
  {
   "cell_type": "markdown",
   "id": "d66efe65-a8f4-48d9-9504-603264b4945f",
   "metadata": {},
   "source": [
    "### MCMC Runs"
   ]
  },
  {
   "cell_type": "code",
   "execution_count": null,
   "id": "bd76468b-ef9e-492b-9bf9-b8296ada4a70",
   "metadata": {},
   "outputs": [],
   "source": [
    "from asp.search.mcmc import metropolis_hastings, recursive_proposal, proposal_distribution\n",
    "import numpy as np"
   ]
  },
  {
   "cell_type": "code",
   "execution_count": null,
   "id": "f181097e-8a7d-4a1f-b00c-222f7b42b3db",
   "metadata": {},
   "outputs": [],
   "source": [
    "success_hists = []\n",
    "obj_fns  = []\n",
    "for i in range(10):\n",
    "    objective_function = Objective(\n",
    "                himmelblau_booth,\n",
    "                space_config,\n",
    "                input_parameters,\n",
    "                output_parameters,\n",
    "                objectives\n",
    "                )\n",
    "    \n",
    "    def him_boo(x):\n",
    "        result = objective_function.sample(\n",
    "            x.reshape(1,-1), is_normalised=True\n",
    "        )\n",
    "        h = result['himmelblau']\n",
    "        b = result['booth']\n",
    "    \n",
    "        lh = 1 - smooth_mask(h,3., 1e-2)\n",
    "        lb = smooth_box_mask(b, 2., 4., 1e-2 ) \n",
    "        return  lh*lb\n",
    "    \n",
    "    \n",
    "    initial_x = np.random.uniform(0,1,size=(2))\n",
    "    initial_lh = him_boo(initial_x)\n",
    "    \n",
    "    samples, total_proposal_history, total_proposal_likelihood, success_history = metropolis_hastings(\n",
    "        him_boo,\n",
    "        proposal_distribution,\n",
    "        initial_x,\n",
    "        initial_lh,\n",
    "        initial_scale=.4,\n",
    "        num_samples=2210,\n",
    "        adapt_frequency=100,\n",
    "        burn_in=1000\n",
    "        )\n",
    "    obj_fns.append(objective_function)\n",
    "    "
   ]
  },
  {
   "cell_type": "code",
   "execution_count": null,
   "id": "215fd81f-a480-4b58-9ed5-5681f2073099",
   "metadata": {},
   "outputs": [],
   "source": [
    "from asp.search.utils import dict_to_eval_string\n",
    "\n",
    "lines = []\n",
    "mcmc_dfs = []\n",
    "for obj_fn in obj_fns:\n",
    "    df = obj_fn.as_dataframe()\n",
    "    samples = df.iloc[:, :2].to_numpy()\n",
    "    eval = dict_to_eval_string(objectives)\n",
    "    select = df.eval(eval)\n",
    "    df['s'] = select\n",
    "    lines.append(select)\n",
    "    mcmc_dfs.append(df)"
   ]
  },
  {
   "cell_type": "code",
   "execution_count": null,
   "id": "ae498c90-734d-4fdb-9982-27e332219dc5",
   "metadata": {},
   "outputs": [],
   "source": [
    "from mycolorpy import colorlist as mcp\n",
    "color1=mcp.gen_color(cmap=\"winter\",n=4)\n"
   ]
  },
  {
   "cell_type": "code",
   "execution_count": null,
   "id": "3c2e15bf-1b5a-4b2f-a868-f6fbfc66766b",
   "metadata": {},
   "outputs": [],
   "source": [
    "import matplotlib.pyplot as plt \n",
    "\n",
    "obj_fn = obj_fns[np.random.randint(0,10)]\n",
    "df = obj_fn.as_dataframe()\n",
    "samples = df.iloc[:, :2].to_numpy()\n",
    "eval = dict_to_eval_string(objectives)\n",
    "select = df.eval(eval)\n",
    "lines.append(select)\n",
    "    \n",
    "p_smpls = np.vstack(samples)[select]\n",
    "n_smpls = np.vstack(samples)[~select]\n",
    "\n",
    "px, py = p_smpls[:,0], p_smpls[:,1]\n",
    "nx, ny = n_smpls[:,0], n_smpls[:,1]\n",
    "# Create a figure\n",
    "\n"
   ]
  },
  {
   "cell_type": "code",
   "execution_count": null,
   "id": "0ddd81df-8a55-414b-b48e-2b60d5d4da9a",
   "metadata": {},
   "outputs": [],
   "source": [
    "fig, ax = plt.subplots(1,1, figsize=(4,3))\n",
    "\n",
    "ys = []\n",
    "for select in lines:\n",
    "    y = np.cumsum(select)\n",
    "    ys.append(y)\n",
    "    ax.plot(range(len(y)), y, c=color1[1], alpha=0.1)\n",
    "ys = np.vstack(ys)\n",
    "ax.plot(range(ys.shape[-1]), ys.mean(axis=0), c=color1[0])\n",
    "\n",
    "ax.set_ylabel(r'$\\mathcal{S}\\ \\mathrm{Points}$')\n",
    "ax.set_xlabel(r'$\\mathrm{Step}$')\n",
    "\n",
    "ax.grid()\n",
    "\n",
    "plt.subplots_adjust(hspace=0.05)\n",
    "plt.savefig('save/test_function_mcmcmh_10_runs_metrics.pdf')"
   ]
  },
  {
   "cell_type": "code",
   "execution_count": null,
   "id": "a64e086e-7a90-4aad-8b14-1b2c530b2f6d",
   "metadata": {},
   "outputs": [],
   "source": [
    "import numpy as np\n",
    "import matplotlib.pyplot as plt\n",
    "from mycolorpy import colorlist as mcp\n",
    "color1=mcp.gen_color(cmap=\"winter\",n=8)\n",
    "\n",
    "class ScatterHistogramPlotter:\n",
    "    def __init__(self, figsize=(3, 3)):\n",
    "        # Initialize the figure and axes\n",
    "        self.fig = plt.figure(figsize=figsize)\n",
    "        self.scatter_ax = self.fig.add_axes([0.1, 0.1, 0.65, 0.65])\n",
    "        self.x_hist_ax = self.fig.add_axes([0.1, 0.78, 0.65, 0.15], sharex=self.scatter_ax)\n",
    "        self.y_hist_ax = self.fig.add_axes([0.78, 0.1, 0.15, 0.65], sharey=self.scatter_ax)\n",
    "        \n",
    "        # Configure the axes\n",
    "        self.x_hist_ax.tick_params(labelleft=True, labelbottom=False)\n",
    "        self.y_hist_ax.tick_params(labelbottom=True, labelleft=False)\n",
    "        self.scatter_ax.set_xlabel(r'$\\theta_1$')\n",
    "        self.scatter_ax.set_ylabel(r'$\\theta_2$')\n",
    "        self.x_hist_ax.set_ylabel(r'$\\mathrm{Count}$')\n",
    "        self.y_hist_ax.set_xlabel(r'$\\mathrm{Count}$')\n",
    "        self.x_hist_ax.grid(False)\n",
    "        self.y_hist_ax.grid(False)\n",
    "\n",
    "    def add_scatter_points(self, X, Y, colors, alpha=0.7, s=2, label=None, ax_labels=None):\n",
    "        # Scatter plot\n",
    "\n",
    "        self.scatter_ax.scatter(X, Y, s=s, c=colors, alpha=alpha)\n",
    "        \n",
    "        # Histograms\n",
    "        self.x_hist_ax.hist(X, bins=30, color=colors, alpha=alpha)\n",
    "        self.y_hist_ax.hist(Y, bins=30, orientation='horizontal', color=colors, alpha=alpha)\n",
    "        \n",
    "        # Adjust limits based on the scatter plot\n",
    "        self.x_hist_ax.set_xlim(self.scatter_ax.get_xlim())\n",
    "        self.y_hist_ax.set_ylim(self.scatter_ax.get_ylim())\n",
    "        if ax_labels:\n",
    "            self.scatter_ax.set_xlabel(labels[0])\n",
    "            self.scatter_ax.set_ylabel(labels[1])\n",
    "        \n",
    "    def show(self):\n",
    "        plt.show()\n",
    "        \n",
    "class ScatterHistogramPlotter:\n",
    "    def __init__(self, figsize=(3, 3)):\n",
    "        self.fig = plt.figure(figsize=figsize)\n",
    "        self.scatter_ax = self.fig.add_axes([0.1, 0.1, 0.65, 0.65])\n",
    "        self.x_hist_ax = self.fig.add_axes([0.1, 0.78, 0.65, 0.15], sharex=self.scatter_ax)\n",
    "        self.y_hist_ax = self.fig.add_axes([0.78, 0.1, 0.15, 0.65], sharey=self.scatter_ax)\n",
    "        \n",
    "        self.x_hist_ax.tick_params(labelleft=True, labelbottom=False)\n",
    "        self.y_hist_ax.tick_params(labelbottom=True, labelleft=False)\n",
    "        self.scatter_ax.set_xlabel(r'$\\theta_1$')\n",
    "        self.scatter_ax.set_ylabel(r'$\\theta_2$')\n",
    "        self.x_hist_ax.set_ylabel(r'$\\mathrm{Count}$')\n",
    "        self.y_hist_ax.set_xlabel(r'$\\mathrm{Count}$')\n",
    "        self.x_hist_ax.grid(False)\n",
    "        self.y_hist_ax.grid(False)\n",
    "        \n",
    "        # New attribute for legend information\n",
    "        self.legend_elements = []\n",
    "\n",
    "    def add_scatter_points(self, X, Y, colors, alpha=0.7, s=2, scatter_label=None, ax_labels=None):\n",
    "        # Scatter plot\n",
    "        scatter_plot = self.scatter_ax.scatter(X, Y, s=s, c=colors, alpha=alpha, label=scatter_label)\n",
    "        \n",
    "        if scatter_label:\n",
    "            self.legend_elements.append(scatter_plot)\n",
    "        \n",
    "        # Histograms\n",
    "        self.x_hist_ax.hist(X, bins=30, color=colors, alpha=alpha)\n",
    "        self.y_hist_ax.hist(Y, bins=30, orientation='horizontal', color=colors, alpha=alpha)\n",
    "        \n",
    "        self.x_hist_ax.set_xlim(self.scatter_ax.get_xlim())\n",
    "        self.y_hist_ax.set_ylim(self.scatter_ax.get_ylim())\n",
    "        \n",
    "        if ax_labels:\n",
    "            self.scatter_ax.set_xlabel(ax_labels[0])\n",
    "            self.scatter_ax.set_ylabel(ax_labels[1])\n",
    "        \n",
    "    def show(self, save=False, name='fig.pdf'):\n",
    "        # Create legend if there are elements to show\n",
    "        if self.legend_elements:\n",
    "            self.scatter_ax.legend(handles=self.legend_elements, loc='lower left')\n",
    "        if save:\n",
    "            plt.savefig(name, bbox_inches='tight')\n",
    "        plt.show()\n"
   ]
  },
  {
   "cell_type": "code",
   "execution_count": null,
   "id": "1c559bf0-12ff-491f-8c02-266f2dac5312",
   "metadata": {},
   "outputs": [],
   "source": [
    "plot = ScatterHistogramPlotter()\n",
    "plot.add_scatter_points(nx, ny, colors=color1[1], scatter_label=r'$\\notin  \\mathcal{S}$')\n",
    "plot.add_scatter_points(px, py, colors=color1[-1],  scatter_label=r'$\\in  \\mathcal{S}$')\n",
    "plot.show()\n"
   ]
  },
  {
   "cell_type": "code",
   "execution_count": null,
   "id": "ed1e1af5-1b61-4a21-b23b-bf9f392fbf69",
   "metadata": {},
   "outputs": [],
   "source": [
    "from pathlib import Path\n",
    "from asp.search.objective_fn import ObjectiveDataSet\n",
    "from asp.search.utils import dict_to_eval_string\n",
    "import pandas as pd \n",
    "\n",
    "bcastor_dfs = []\n",
    "bcastor_lines = []\n",
    "bcastor_metrics = []\n",
    "for i in range(10):\n",
    "    ods = ObjectiveDataSet()\n",
    "    path = Path('/Users/madiaz/Documents/obsidian/Projects/active-search-pheno/experiments_paper/test_function/datasets/hb_bcastor_local')\n",
    "    run_name = f'run_rdecay_long_17_{i}'\n",
    "    ods.load_json(path / f'{run_name}/checkpoint')\n",
    "    met = pd.read_csv(path / f'{run_name}/checkpointmetrics')\n",
    "    bcastor_metrics.append(met)\n",
    "    df = pd.DataFrame(ods.dataset)\n",
    "    filter_string = dict_to_eval_string(objectives)\n",
    "    select = df.eval(filter_string)\n",
    "    parameters = list(df.columns)\n",
    "    df['s'] = select\n",
    "    bcastor_dfs.append(df)\n",
    "    bcastor_lines.append(select)"
   ]
  },
  {
   "cell_type": "code",
   "execution_count": null,
   "id": "806faff2-3e18-4083-a939-895f05026a99",
   "metadata": {},
   "outputs": [],
   "source": [
    "fig, ax = plt.subplots(1,1, figsize=(4,3))\n",
    "\n",
    "ys = []\n",
    "for select in bcastor_lines:\n",
    "    y = np.cumsum(select)\n",
    "    ys.append(y)\n",
    "    ax.plot(range(len(y)), y, c=color1[3], alpha=0.2)\n",
    "ys = np.vstack(ys)\n",
    "ax.plot(range(ys.shape[-1]), ys.mean(axis=0), c=color1[2], label=f'b-CASTOR')\n",
    "final_rate = (ys.mean(axis=0))[-1]\n",
    "print('b-CASTOR final points: ',final_rate )\n",
    "\n",
    "\n",
    "ys = []\n",
    "for select in lines:\n",
    "    y = np.cumsum(select)\n",
    "    ys.append(y)\n",
    "    ax.plot(range(len(y)), y, c=color1[-2], alpha=0.15)\n",
    "ys = np.vstack(ys)\n",
    "ax.plot(range(ys.shape[-1]), ys.mean(axis=0), c=color1[-3], label=f'MCMC-MH')\n",
    "final_rate = (ys.mean(axis=0))[-1]\n",
    "print('MCMC final points : ',final_rate )\n",
    "\n",
    "ax.set_ylabel(r'$\\mathrm{Points} \\in  \\mathcal{S}$')\n",
    "ax.set_xlabel(r'$\\mathbf{f}_{B H}\\ \\mathrm{calls}$')\n",
    "\n",
    "ax.grid()\n",
    "plt.legend()\n",
    "plt.subplots_adjust(hspace=0.05)\n",
    "plt.savefig('save/test_function_bcastor_10_runs_s_points.pdf',bbox_inches='tight')"
   ]
  },
  {
   "cell_type": "code",
   "execution_count": null,
   "id": "ae69b0ac-3b25-4cc1-a988-07deb34a0dcb",
   "metadata": {},
   "outputs": [],
   "source": []
  },
  {
   "cell_type": "code",
   "execution_count": null,
   "id": "f8db5154-f665-4517-9298-9845e1493d8d",
   "metadata": {},
   "outputs": [],
   "source": [
    "fig, ax = plt.subplots(1,1, figsize=(4,3))\n",
    "\n",
    "ys = []\n",
    "for select in bcastor_lines:\n",
    "    y = np.cumsum(~select)\n",
    "    ys.append(y)\n",
    "    ax.plot(range(len(y)), y, c=color1[3], alpha=0.2)\n",
    "ys = np.vstack(ys)\n",
    "ax.plot(range(ys.shape[-1]), ys.mean(axis=0), c=color1[2], label=f'b-CASTOR')\n",
    "final_rate = (ys.mean(axis=0))[-1]\n",
    "print('b-CASTOR final points: ',final_rate )\n",
    "\n",
    "ys = []\n",
    "for select in lines:\n",
    "    y = np.cumsum(~select)\n",
    "    ys.append(y)\n",
    "    ax.plot(range(len(y)), y, c=color1[-2], alpha=0.15)\n",
    "ys = np.vstack(ys)\n",
    "ax.plot(range(ys.shape[-1]), ys.mean(axis=0), c=color1[-3], label=f'MCMC-MH')\n",
    "final_rate = (ys.mean(axis=0))[-1]\n",
    "print('MCMC final points : ',final_rate )\n",
    "\n",
    "ax.set_ylabel(r'$\\mathrm{Points} \\notin  \\mathcal{S}$')\n",
    "ax.set_xlabel(r'$\\mathbf{f}_{B H}\\ \\mathrm{calls}$')\n",
    "\n",
    "ax.grid()\n",
    "plt.legend()\n",
    "plt.subplots_adjust(hspace=0.05)\n",
    "plt.savefig('save/test_function_bcastor_10_runs_nons_points.pdf',bbox_inches='tight')"
   ]
  },
  {
   "cell_type": "code",
   "execution_count": null,
   "id": "e6fe795a-e915-4f3c-849f-9ff9b3fc97a0",
   "metadata": {},
   "outputs": [],
   "source": [
    "fig, ax = plt.subplots(1,1, figsize=(4,3))\n",
    "\n",
    "ys = []\n",
    "for select in bcastor_lines:\n",
    "    y = np.cumsum(select)\n",
    "    total = np.cumsum(range(len(select)))\n",
    "    ys.append(y)\n",
    "    ax.plot(range(len(y)), y/(np.arange(1, len(y)+1)), c=color1[3], alpha=0.2)\n",
    "ys = np.vstack(ys)\n",
    "ax.plot(range(ys.shape[-1]), ys.mean(axis=0)/(np.arange(1, len(y)+1)), c=color1[2], label=f'b-CASTOR')\n",
    "final_rate = np.round((ys.mean(axis=0)/(np.arange(1, len(y)+1)))[-1]*100,2)\n",
    "print('b-CASTOR final rate : ',final_rate )\n",
    "\n",
    "ys = []\n",
    "for select in lines:\n",
    "\n",
    "    y = np.cumsum(select)\n",
    "    ys.append(y)\n",
    "    ax.plot(range(len(y)), y/(np.arange(1, len(y)+1)), c=color1[-2], alpha=0.2)\n",
    "ys = np.vstack(ys)\n",
    "ax.plot(range(ys.shape[-1]), ys.mean(axis=0)/(np.arange(1, len(y)+1)), c=color1[-3], label=f'MCMC-MH')\n",
    "final_rate = np.round((ys.mean(axis=0)/(np.arange(1, len(y)+1)))[-1]*100,2)\n",
    "print('MCMC final rate : ',final_rate )\n",
    "\n",
    "ax.set_ylabel(r'$\\mathrm{Points} \\in  \\mathcal{S}/\\ \\mathrm{Total}$')\n",
    "ax.set_xlabel(r'$\\mathbf{f}_{B H}\\ \\mathrm{calls}$')\n",
    "\n",
    "ax.grid()\n",
    "plt.legend()\n",
    "plt.subplots_adjust(hspace=0.05)\n",
    "plt.savefig('save/test_function_bcastor_10_runs_metrics_s2total.pdf',bbox_inches='tight')"
   ]
  },
  {
   "cell_type": "code",
   "execution_count": null,
   "id": "4730e09a-6bc8-4881-903a-227b351261d8",
   "metadata": {},
   "outputs": [],
   "source": [
    "fig, ax = plt.subplots(1,1, figsize=(4,3))\n",
    "\n",
    "ys = []\n",
    "for select in bcastor_lines:\n",
    "    y = np.cumsum(~select)\n",
    "    total = np.cumsum(range(len(select)))\n",
    "    ys.append(y)\n",
    "    ax.plot(range(len(y)), y/(np.arange(1, len(y)+1)), c=color1[3], alpha=0.2)\n",
    "ys = np.vstack(ys)\n",
    "ax.plot(range(ys.shape[-1]), ys.mean(axis=0)/(np.arange(1, len(y)+1)), c=color1[2], label=f'b-CASTOR')\n",
    "final_rate = np.round((ys.mean(axis=0)/(np.arange(1, len(y)+1)))[-1]*100,2)\n",
    "print('b-CASTOR final rate : ',final_rate )\n",
    "\n",
    "ys = []\n",
    "for select in lines:\n",
    "\n",
    "    y = np.cumsum(~select)\n",
    "    ys.append(y)\n",
    "    ax.plot(range(len(y)), y/(np.arange(1, len(y)+1)), c=color1[-2], alpha=0.2)\n",
    "ys = np.vstack(ys)\n",
    "ax.plot(range(ys.shape[-1]), ys.mean(axis=0)/(np.arange(1, len(y)+1)), c=color1[-3], label=f'MCMC-MH')\n",
    "final_rate = np.round((ys.mean(axis=0)/(np.arange(1, len(y)+1)))[-1]*100,2)\n",
    "print('MCMC final rate : ',final_rate )\n",
    "\n",
    "\n",
    "ax.set_ylabel(r'$\\mathrm{Points} \\notin  \\mathcal{S}/\\ \\mathrm{Total}$')\n",
    "ax.set_xlabel(r'$\\mathbf{f}_{B H}\\ \\mathrm{calls}$')\n",
    "\n",
    "ax.grid()\n",
    "plt.legend()\n",
    "plt.subplots_adjust(hspace=0.05)\n",
    "plt.savefig('save/test_function_bcastor_10_runs_metrics_nots2total.pdf',bbox_inches='tight')"
   ]
  },
  {
   "cell_type": "code",
   "execution_count": null,
   "id": "18fa3176-b439-4321-a015-1123aa3bbbe6",
   "metadata": {},
   "outputs": [],
   "source": [
    "ys.mean(axis=0)/np.arange(1,len(y)+1)"
   ]
  },
  {
   "cell_type": "code",
   "execution_count": null,
   "id": "d784876c-a039-41fd-b7a0-9f79d35ee14f",
   "metadata": {},
   "outputs": [],
   "source": [
    "rnd_fig_id = np.random.choice( range(10), 5,replace=False ) \n",
    "rnd_fig_id = np.arange(10)\n",
    "for i in rnd_fig_id:\n",
    "    df = bcastor_dfs[i]\n",
    "    plot = ScatterHistogramPlotter()\n",
    "    select = df.s\n",
    "    samples = df.iloc[:, :2].to_numpy()\n",
    "    \n",
    "    p_smpls = np.vstack(samples)[select]\n",
    "    n_smpls = np.vstack(samples)[~select]\n",
    "    \n",
    "    px, py = p_smpls[:,0], p_smpls[:,1]\n",
    "    nx, ny = n_smpls[:,0], n_smpls[:,1]\n",
    "    \n",
    "    plot.add_scatter_points(nx, ny, colors=color1[2], scatter_label=r'$\\notin  \\mathcal{S}$')\n",
    "    plot.add_scatter_points(px, py, colors=color1[-2], scatter_label=r'$\\in  \\mathcal{S}$')\n",
    "    #plt.savefig(f'save/bcastor_tf_{i}.pdf',bbox_inches='tight')\n",
    "    plot.show(save=True, name=f'save/bcastor_tf_{i}.pdf')\n"
   ]
  },
  {
   "cell_type": "code",
   "execution_count": null,
   "id": "289d407e-c44e-47d7-9fe2-358bec31c9ca",
   "metadata": {},
   "outputs": [],
   "source": [
    "rnd_fig_id = np.random.choice( range(10), 5,replace=False ) \n",
    "rnd_fig_id = np.arange(10)\n",
    "\n",
    "for i in rnd_fig_id:\n",
    "    df = mcmc_dfs[i]\n",
    "    plot = ScatterHistogramPlotter()\n",
    "    select = df.s\n",
    "    samples = df.iloc[:, :2].to_numpy()\n",
    "    \n",
    "    p_smpls = np.vstack(samples)[select]\n",
    "    n_smpls = np.vstack(samples)[~select]\n",
    "    \n",
    "    px, py = p_smpls[:,0], p_smpls[:,1]\n",
    "    nx, ny = n_smpls[:,0], n_smpls[:,1]\n",
    "    \n",
    "    plot.add_scatter_points(nx, ny, colors=color1[2], scatter_label=r'$\\notin  \\mathcal{S}$')\n",
    "    plot.add_scatter_points(px, py, colors=color1[-2], scatter_label=r'$\\in  \\mathcal{S}$')\n",
    "    #plt.savefig(f'save/bcastor_tf_{i}.pdf',bbox_inches='tight')\n",
    "    plot.show(save=True, name=f'save/mcmc_tf_{i}.pdf')\n",
    "\n"
   ]
  }
 ],
 "metadata": {
  "kernelspec": {
   "display_name": "Python 3 (ipykernel)",
   "language": "python",
   "name": "python3"
  },
  "language_info": {
   "codemirror_mode": {
    "name": "ipython",
    "version": 3
   },
   "file_extension": ".py",
   "mimetype": "text/x-python",
   "name": "python",
   "nbconvert_exporter": "python",
   "pygments_lexer": "ipython3",
   "version": "3.11.8"
  }
 },
 "nbformat": 4,
 "nbformat_minor": 5
}
