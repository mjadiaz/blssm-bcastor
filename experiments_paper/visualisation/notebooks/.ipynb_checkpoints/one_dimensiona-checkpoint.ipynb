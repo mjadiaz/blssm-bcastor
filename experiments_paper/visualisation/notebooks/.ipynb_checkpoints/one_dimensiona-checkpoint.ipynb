{
 "cells": [
  {
   "cell_type": "code",
   "execution_count": null,
   "metadata": {},
   "outputs": [
    {
     "ename": "",
     "evalue": "",
     "output_type": "error",
     "traceback": [
      "\u001b[1;31mFailed to connect to the remote Jupyter Server 'http://localhost:8888/'. Verify the server is running and reachable. (Failed to connect to the remote Jupyter Server 'http://localhost:8888/'. Verify the server is running and reachable. (request to http://localhost:8888/api/kernels?1711022382089 failed, reason: connect ECONNREFUSED 127.0.0.1:8888).)."
     ]
    }
   ],
   "source": [
    "from asp.search.objective_fn import ObjectiveDataSet\n",
    "from pathlib import Path\n",
    "import pandas as pd\n",
    "import numpy as np\n",
    "import torch\n",
    "import matplotlib.pyplot as plt"
   ]
  },
  {
   "cell_type": "code",
   "execution_count": 952,
   "metadata": {},
   "outputs": [],
   "source": [
    "from asp.search.corner_plot import CornerPlot\n",
    "from omegaconf import OmegaConf"
   ]
  },
  {
   "cell_type": "code",
   "execution_count": 986,
   "metadata": {},
   "outputs": [],
   "source": [
    "from asp.search.utils import dict_to_eval_string\n",
    "from asp.search.metrics import VolumeCoverage, s_ns_history\n",
    "import pandas as pd"
   ]
  },
  {
   "cell_type": "code",
   "execution_count": 988,
   "metadata": {},
   "outputs": [],
   "source": [
    "def us_ut_iteration(x, met, select, iteration_step):\n",
    "    vc = VolumeCoverage()\n",
    "    r_id = 0\n",
    "    iterations = met.n_total_points\n",
    "    r_parameter = met.r_parameter\n",
    "    for i in range(len(x)):\n",
    "        vc.add(x[i], r_parameter[r_id ])\n",
    "        if i == 0:\n",
    "            continue\n",
    "        if i == iterations[r_id]:\n",
    "            r_id += 1\n",
    "    s, ns = s_ns_history(vc.history, select)\n",
    "    us_ut = (s/vc.cumulative)[::iteration_step]\n",
    "    return us_ut\n",
    "\n",
    "def dict_to_eval_string(obj_dict):\n",
    "    eval_string = ''\n",
    "    for key, value in obj_dict.items():\n",
    "        if key == 'double_constraint':\n",
    "            for constraint, conditions in value.items():\n",
    "                print(constraint, conditions)\n",
    "                eval_string += f'{conditions[0][1]} < {constraint} < {conditions[1][1]} and '\n",
    "        elif key == 'single_constraint':\n",
    "            for constraint, condition in value.items():\n",
    "                print(constraint, condition)\n",
    "                if condition[0] == 'gt':\n",
    "                    eval_string += f'{condition[1]} < {constraint} and '\n",
    "                else:\n",
    "                    eval_string += f'{constraint} < {condition[1]} and '\n",
    "        elif key == 'gaussian_constraint':\n",
    "            # Handle Gaussian constraints if needed\n",
    "            pass\n",
    "    \n",
    "    # Removing the trailing 'and ' from the eval_string\n",
    "    eval_string = eval_string.rstrip('and ')\n",
    "    return eval_string"
   ]
  },
  {
   "cell_type": "code",
   "execution_count": 989,
   "metadata": {},
   "outputs": [],
   "source": [
    "objectives = {\n",
    "    'double_constraint': {\n",
    "        'booth': [['gt', 2.],['lt',4.]]\n",
    "    },\n",
    "    'single_constraint': {\n",
    "        'himmelblau':['lt', 3.],\n",
    "    },\n",
    "    'gaussian_constraint': {\n",
    "\n",
    "    }\n",
    "    }\n"
   ]
  },
  {
   "cell_type": "markdown",
   "metadata": {},
   "source": []
  },
  {
   "cell_type": "code",
   "execution_count": 995,
   "metadata": {},
   "outputs": [
    {
     "name": "stdout",
     "output_type": "stream",
     "text": [
      "booth [['gt', 2.0], ['lt', 4.0]]\n",
      "himmelblau ['lt', 3.0]\n"
     ]
    }
   ],
   "source": [
    "ods = ObjectiveDataSet()\n",
    "#ods.load_json('/Users/madiaz/Documents/obsidian/Projects/active-search-pheno/experiments/test_functions/media/0_01_0_0001_2/dataset')\n",
    "ods.load_json('/Users/madiaz/Documents/obsidian/Projects/active-search-pheno/experiments_paper/test_function/datasets/hb_bcastor_local/run_1/checkpoint')\n",
    "met = pd.read_csv('/Users/madiaz/Documents/obsidian/Projects/active-search-pheno/experiments_paper/test_function/datasets/hb_bcastor_local/run_1/checkpointmetrics')\n",
    "\n",
    "df = pd.DataFrame(ods.dataset)\n",
    "filter_string = dict_to_eval_string(objectives)\n",
    "select = df.eval(filter_string)"
   ]
  },
  {
   "cell_type": "code",
   "execution_count": 996,
   "metadata": {},
   "outputs": [
    {
     "data": {
      "text/html": [
       "<div>\n",
       "<style scoped>\n",
       "    .dataframe tbody tr th:only-of-type {\n",
       "        vertical-align: middle;\n",
       "    }\n",
       "\n",
       "    .dataframe tbody tr th {\n",
       "        vertical-align: top;\n",
       "    }\n",
       "\n",
       "    .dataframe thead th {\n",
       "        text-align: right;\n",
       "    }\n",
       "</style>\n",
       "<table border=\"1\" class=\"dataframe\">\n",
       "  <thead>\n",
       "    <tr style=\"text-align: right;\">\n",
       "      <th></th>\n",
       "      <th>himmelblau</th>\n",
       "      <th>booth</th>\n",
       "    </tr>\n",
       "  </thead>\n",
       "  <tbody>\n",
       "    <tr>\n",
       "      <th>0</th>\n",
       "      <td>4.929778</td>\n",
       "      <td>4.758167</td>\n",
       "    </tr>\n",
       "    <tr>\n",
       "      <th>1</th>\n",
       "      <td>5.982964</td>\n",
       "      <td>5.719996</td>\n",
       "    </tr>\n",
       "    <tr>\n",
       "      <th>2</th>\n",
       "      <td>5.073872</td>\n",
       "      <td>4.007284</td>\n",
       "    </tr>\n",
       "    <tr>\n",
       "      <th>3</th>\n",
       "      <td>3.892955</td>\n",
       "      <td>5.991905</td>\n",
       "    </tr>\n",
       "    <tr>\n",
       "      <th>4</th>\n",
       "      <td>5.978782</td>\n",
       "      <td>4.550380</td>\n",
       "    </tr>\n",
       "    <tr>\n",
       "      <th>...</th>\n",
       "      <td>...</td>\n",
       "      <td>...</td>\n",
       "    </tr>\n",
       "    <tr>\n",
       "      <th>475</th>\n",
       "      <td>4.746430</td>\n",
       "      <td>5.941228</td>\n",
       "    </tr>\n",
       "    <tr>\n",
       "      <th>476</th>\n",
       "      <td>4.632454</td>\n",
       "      <td>6.620097</td>\n",
       "    </tr>\n",
       "    <tr>\n",
       "      <th>477</th>\n",
       "      <td>4.736493</td>\n",
       "      <td>3.647086</td>\n",
       "    </tr>\n",
       "    <tr>\n",
       "      <th>478</th>\n",
       "      <td>4.107357</td>\n",
       "      <td>3.050234</td>\n",
       "    </tr>\n",
       "    <tr>\n",
       "      <th>479</th>\n",
       "      <td>6.319916</td>\n",
       "      <td>6.034940</td>\n",
       "    </tr>\n",
       "  </tbody>\n",
       "</table>\n",
       "<p>480 rows × 2 columns</p>\n",
       "</div>"
      ],
      "text/plain": [
       "     himmelblau     booth\n",
       "0      4.929778  4.758167\n",
       "1      5.982964  5.719996\n",
       "2      5.073872  4.007284\n",
       "3      3.892955  5.991905\n",
       "4      5.978782  4.550380\n",
       "..          ...       ...\n",
       "475    4.746430  5.941228\n",
       "476    4.632454  6.620097\n",
       "477    4.736493  3.647086\n",
       "478    4.107357  3.050234\n",
       "479    6.319916  6.034940\n",
       "\n",
       "[480 rows x 2 columns]"
      ]
     },
     "execution_count": 996,
     "metadata": {},
     "output_type": "execute_result"
    }
   ],
   "source": [
    "parameters = list(df.columns)\n",
    "df[parameters[2:]]"
   ]
  },
  {
   "cell_type": "code",
   "execution_count": 997,
   "metadata": {},
   "outputs": [
    {
     "data": {
      "image/png": "[encoded data removed]",
      "text/plain": [
       "<Figure size 500x300 with 3 Axes>"
      ]
     },
     "metadata": {},
     "output_type": "display_data"
    }
   ],
   "source": [
    "cp = CornerPlot(None, parameters[2:], figsize=(5,3))\n",
    "#cp.add_trace(df_[class_array[min_val:max_val] == 0], r'$\\mathrm{Non}$-$\\mathrm{physical}$')\n",
    "cp.add_trace(df[parameters[:2]][~select], r'$\\notin \\mathcal{S}$')\n",
    "cp.add_trace(df[parameters[:2]][select], r'$\\in \\mathcal{S}$')\n",
    "cp.update_legend()\n",
    "cp.clean()\n",
    "cp.save('save/test_1.pdf')\n",
    "\n",
    "\n"
   ]
  },
  {
   "cell_type": "code",
   "execution_count": 998,
   "metadata": {},
   "outputs": [
    {
     "data": {
      "image/png": "[encoded data removed]",
      "text/plain": [
       "<Figure size 400x400 with 2 Axes>"
      ]
     },
     "metadata": {},
     "output_type": "display_data"
    }
   ],
   "source": [
    "x = df[parameters[:2]].to_numpy()[20:]\n",
    "us_ut = us_ut_iteration(x, met, select, 10)\n",
    "\n",
    "fig, ax = plt.subplots(2,1, figsize=(4,4))\n",
    "ax[1].plot(met.iteration,us_ut)\n",
    "ax[1].set_ylabel(r'$u_\\mathcal{S}/ u_\\mathrm{T}$')\n",
    "ax[0].set_xticklabels([])\n",
    "ax[0].plot(met.iteration, met.n_satisfactory_points)\n",
    "ax[0].set_ylabel(r'$\\mathrm{S\\ points}$')\n",
    "ax[0].grid()\n",
    "\n",
    "ax[1].set_xlabel(r'$\\mathrm{Iteration}$')\n",
    "ax[1].grid()\n",
    "\n",
    "plt.subplots_adjust(hspace=0.05)"
   ]
  },
  {
   "cell_type": "code",
   "execution_count": null,
   "metadata": {},
   "outputs": [],
   "source": []
  },
  {
   "cell_type": "code",
   "execution_count": null,
   "metadata": {},
   "outputs": [],
   "source": []
  },
  {
   "cell_type": "code",
   "execution_count": 983,
   "metadata": {},
   "outputs": [],
   "source": []
  },
  {
   "cell_type": "code",
   "execution_count": 659,
   "metadata": {},
   "outputs": [],
   "source": [
    "from scipy.spatial import distance\n",
    "from scipy.spatial.distance import pdist, squareform"
   ]
  },
  {
   "cell_type": "code",
   "execution_count": 660,
   "metadata": {},
   "outputs": [],
   "source": [
    "dist = distance.cdist(df.iloc[:, :2][select], df.iloc[:, :2][select])"
   ]
  },
  {
   "cell_type": "code",
   "execution_count": 846,
   "metadata": {},
   "outputs": [],
   "source": [
    "x = df[parameters[:2]][~select].to_numpy()"
   ]
  },
  {
   "cell_type": "code",
   "execution_count": 847,
   "metadata": {},
   "outputs": [],
   "source": [
    "dist = distance.cdist(x,x)"
   ]
  },
  {
   "cell_type": "code",
   "execution_count": 848,
   "metadata": {},
   "outputs": [
    {
     "data": {
      "text/plain": [
       "array([[0.        , 9.22794131, 6.27584457, ..., 4.72925575, 4.50670574,\n",
       "        7.43670174],\n",
       "       [9.22794131, 0.        , 7.18546926, ..., 4.56145759, 6.18551468,\n",
       "        3.12122198],\n",
       "       [6.27584457, 7.18546926, 0.        , ..., 5.46684369, 2.24251527,\n",
       "        4.07664285],\n",
       "       ...,\n",
       "       [4.72925575, 4.56145759, 5.46684369, ..., 0.        , 3.3646943 ,\n",
       "        3.68226951],\n",
       "       [4.50670574, 6.18551468, 2.24251527, ..., 3.3646943 , 0.        ,\n",
       "        3.46315101],\n",
       "       [7.43670174, 3.12122198, 4.07664285, ..., 3.68226951, 3.46315101,\n",
       "        0.        ]])"
      ]
     },
     "execution_count": 848,
     "metadata": {},
     "output_type": "execute_result"
    }
   ],
   "source": [
    "dist"
   ]
  },
  {
   "cell_type": "code",
   "execution_count": 849,
   "metadata": {},
   "outputs": [],
   "source": [
    "base = np.random.uniform(-5,5, size=(len(x), 2))\n",
    "dist_base  = distance.cdist(base,base)"
   ]
  },
  {
   "cell_type": "code",
   "execution_count": 850,
   "metadata": {},
   "outputs": [],
   "source": [
    "from scipy.spatial import KDTree"
   ]
  },
  {
   "cell_type": "code",
   "execution_count": 851,
   "metadata": {},
   "outputs": [],
   "source": [
    "tree = KDTree(x)"
   ]
  },
  {
   "cell_type": "code",
   "execution_count": 746,
   "metadata": {},
   "outputs": [
    {
     "data": {
      "text/plain": [
       "array([[3.43970968, 2.19261264],\n",
       "       [3.51410006, 2.23312688],\n",
       "       [3.4244884 , 2.25660477],\n",
       "       [3.36382898, 2.29333675],\n",
       "       [3.43985432, 2.29505321],\n",
       "       [3.47968351, 2.38274658]])"
      ]
     },
     "execution_count": 746,
     "metadata": {},
     "output_type": "execute_result"
    }
   ],
   "source": [
    "ind = tree.query_ball_point(x[5], 0.1)\n",
    "select_neighbours = np.array(ind) != 5\n",
    "neighbours = x[ind][select_neighbours]\n",
    "neighbours"
   ]
  },
  {
   "cell_type": "code",
   "execution_count": 747,
   "metadata": {},
   "outputs": [
    {
     "data": {
      "text/plain": [
       "array([[3.46011559, 2.28629039]])"
      ]
     },
     "execution_count": 747,
     "metadata": {},
     "output_type": "execute_result"
    }
   ],
   "source": [
    "x[5].reshape(-1,2)"
   ]
  },
  {
   "cell_type": "code",
   "execution_count": 748,
   "metadata": {},
   "outputs": [],
   "source": [
    "from scipy.spatial.distance import cdist"
   ]
  },
  {
   "cell_type": "code",
   "execution_count": 752,
   "metadata": {},
   "outputs": [
    {
     "data": {
      "text/plain": [
       "[0.09587450719677741,\n",
       " 0.0757672852237566,\n",
       " 0.04637383747468629,\n",
       " 0.09654410101254213,\n",
       " 0.022075004442033298,\n",
       " 0.09842103699959853]"
      ]
     },
     "execution_count": 752,
     "metadata": {},
     "output_type": "execute_result"
    }
   ],
   "source": [
    "distances = cdist( x[5].reshape(-1,x.shape[-1]), neighbours)\n",
    "d = [val for val in distances.flatten()]\n",
    "d"
   ]
  },
  {
   "cell_type": "code",
   "execution_count": 806,
   "metadata": {},
   "outputs": [],
   "source": [
    "def neighbour_distance(x, r):\n",
    "    distances = []\n",
    "    for i in range(len(x)):\n",
    "        indices = tree.query_ball_point(x[i], r)\n",
    "        if len(indices) > 1:\n",
    "                select_neighbours = np.array(indices) != i\n",
    "                neighbours = x[indices][select_neighbours]\n",
    "                _ = [distances.append(value) for value in cdist( x[i].reshape(-1,x.shape[-1]), neighbours).flatten()]\n",
    "    return np.array(distances)\n",
    "\n",
    "            \n",
    "\n",
    "        "
   ]
  },
  {
   "cell_type": "code",
   "execution_count": 860,
   "metadata": {},
   "outputs": [],
   "source": [
    "rs = np.linspace(5,0.0001, 1000)"
   ]
  },
  {
   "cell_type": "code",
   "execution_count": 861,
   "metadata": {},
   "outputs": [
    {
     "data": {
      "text/plain": [
       "array([5.00000000e+00, 4.99499510e+00, 4.98999019e+00, 4.98498529e+00,\n",
       "       4.97998038e+00, 4.97497548e+00, 4.96997057e+00, 4.96496567e+00,\n",
       "       4.95996076e+00, 4.95495586e+00, 4.94995095e+00, 4.94494605e+00,\n",
       "       4.93994114e+00, 4.93493624e+00, 4.92993133e+00, 4.92492643e+00,\n",
       "       4.91992152e+00, 4.91491662e+00, 4.90991171e+00, 4.90490681e+00,\n",
       "       4.89990190e+00, 4.89489700e+00, 4.88989209e+00, 4.88488719e+00,\n",
       "       4.87988228e+00, 4.87487738e+00, 4.86987247e+00, 4.86486757e+00,\n",
       "       4.85986266e+00, 4.85485776e+00, 4.84985285e+00, 4.84484795e+00,\n",
       "       4.83984304e+00, 4.83483814e+00, 4.82983323e+00, 4.82482833e+00,\n",
       "       4.81982342e+00, 4.81481852e+00, 4.80981361e+00, 4.80480871e+00,\n",
       "       4.79980380e+00, 4.79479890e+00, 4.78979399e+00, 4.78478909e+00,\n",
       "       4.77978418e+00, 4.77477928e+00, 4.76977437e+00, 4.76476947e+00,\n",
       "       4.75976456e+00, 4.75475966e+00, 4.74975475e+00, 4.74474985e+00,\n",
       "       4.73974494e+00, 4.73474004e+00, 4.72973514e+00, 4.72473023e+00,\n",
       "       4.71972533e+00, 4.71472042e+00, 4.70971552e+00, 4.70471061e+00,\n",
       "       4.69970571e+00, 4.69470080e+00, 4.68969590e+00, 4.68469099e+00,\n",
       "       4.67968609e+00, 4.67468118e+00, 4.66967628e+00, 4.66467137e+00,\n",
       "       4.65966647e+00, 4.65466156e+00, 4.64965666e+00, 4.64465175e+00,\n",
       "       4.63964685e+00, 4.63464194e+00, 4.62963704e+00, 4.62463213e+00,\n",
       "       4.61962723e+00, 4.61462232e+00, 4.60961742e+00, 4.60461251e+00,\n",
       "       4.59960761e+00, 4.59460270e+00, 4.58959780e+00, 4.58459289e+00,\n",
       "       4.57958799e+00, 4.57458308e+00, 4.56957818e+00, 4.56457327e+00,\n",
       "       4.55956837e+00, 4.55456346e+00, 4.54955856e+00, 4.54455365e+00,\n",
       "       4.53954875e+00, 4.53454384e+00, 4.52953894e+00, 4.52453403e+00,\n",
       "       4.51952913e+00, 4.51452422e+00, 4.50951932e+00, 4.50451441e+00,\n",
       "       4.49950951e+00, 4.49450460e+00, 4.48949970e+00, 4.48449479e+00,\n",
       "       4.47948989e+00, 4.47448498e+00, 4.46948008e+00, 4.46447518e+00,\n",
       "       4.45947027e+00, 4.45446537e+00, 4.44946046e+00, 4.44445556e+00,\n",
       "       4.43945065e+00, 4.43444575e+00, 4.42944084e+00, 4.42443594e+00,\n",
       "       4.41943103e+00, 4.41442613e+00, 4.40942122e+00, 4.40441632e+00,\n",
       "       4.39941141e+00, 4.39440651e+00, 4.38940160e+00, 4.38439670e+00,\n",
       "       4.37939179e+00, 4.37438689e+00, 4.36938198e+00, 4.36437708e+00,\n",
       "       4.35937217e+00, 4.35436727e+00, 4.34936236e+00, 4.34435746e+00,\n",
       "       4.33935255e+00, 4.33434765e+00, 4.32934274e+00, 4.32433784e+00,\n",
       "       4.31933293e+00, 4.31432803e+00, 4.30932312e+00, 4.30431822e+00,\n",
       "       4.29931331e+00, 4.29430841e+00, 4.28930350e+00, 4.28429860e+00,\n",
       "       4.27929369e+00, 4.27428879e+00, 4.26928388e+00, 4.26427898e+00,\n",
       "       4.25927407e+00, 4.25426917e+00, 4.24926426e+00, 4.24425936e+00,\n",
       "       4.23925445e+00, 4.23424955e+00, 4.22924464e+00, 4.22423974e+00,\n",
       "       4.21923483e+00, 4.21422993e+00, 4.20922503e+00, 4.20422012e+00,\n",
       "       4.19921522e+00, 4.19421031e+00, 4.18920541e+00, 4.18420050e+00,\n",
       "       4.17919560e+00, 4.17419069e+00, 4.16918579e+00, 4.16418088e+00,\n",
       "       4.15917598e+00, 4.15417107e+00, 4.14916617e+00, 4.14416126e+00,\n",
       "       4.13915636e+00, 4.13415145e+00, 4.12914655e+00, 4.12414164e+00,\n",
       "       4.11913674e+00, 4.11413183e+00, 4.10912693e+00, 4.10412202e+00,\n",
       "       4.09911712e+00, 4.09411221e+00, 4.08910731e+00, 4.08410240e+00,\n",
       "       4.07909750e+00, 4.07409259e+00, 4.06908769e+00, 4.06408278e+00,\n",
       "       4.05907788e+00, 4.05407297e+00, 4.04906807e+00, 4.04406316e+00,\n",
       "       4.03905826e+00, 4.03405335e+00, 4.02904845e+00, 4.02404354e+00,\n",
       "       4.01903864e+00, 4.01403373e+00, 4.00902883e+00, 4.00402392e+00,\n",
       "       3.99901902e+00, 3.99401411e+00, 3.98900921e+00, 3.98400430e+00,\n",
       "       3.97899940e+00, 3.97399449e+00, 3.96898959e+00, 3.96398468e+00,\n",
       "       3.95897978e+00, 3.95397487e+00, 3.94896997e+00, 3.94396507e+00,\n",
       "       3.93896016e+00, 3.93395526e+00, 3.92895035e+00, 3.92394545e+00,\n",
       "       3.91894054e+00, 3.91393564e+00, 3.90893073e+00, 3.90392583e+00,\n",
       "       3.89892092e+00, 3.89391602e+00, 3.88891111e+00, 3.88390621e+00,\n",
       "       3.87890130e+00, 3.87389640e+00, 3.86889149e+00, 3.86388659e+00,\n",
       "       3.85888168e+00, 3.85387678e+00, 3.84887187e+00, 3.84386697e+00,\n",
       "       3.83886206e+00, 3.83385716e+00, 3.82885225e+00, 3.82384735e+00,\n",
       "       3.81884244e+00, 3.81383754e+00, 3.80883263e+00, 3.80382773e+00,\n",
       "       3.79882282e+00, 3.79381792e+00, 3.78881301e+00, 3.78380811e+00,\n",
       "       3.77880320e+00, 3.77379830e+00, 3.76879339e+00, 3.76378849e+00,\n",
       "       3.75878358e+00, 3.75377868e+00, 3.74877377e+00, 3.74376887e+00,\n",
       "       3.73876396e+00, 3.73375906e+00, 3.72875415e+00, 3.72374925e+00,\n",
       "       3.71874434e+00, 3.71373944e+00, 3.70873453e+00, 3.70372963e+00,\n",
       "       3.69872472e+00, 3.69371982e+00, 3.68871491e+00, 3.68371001e+00,\n",
       "       3.67870511e+00, 3.67370020e+00, 3.66869530e+00, 3.66369039e+00,\n",
       "       3.65868549e+00, 3.65368058e+00, 3.64867568e+00, 3.64367077e+00,\n",
       "       3.63866587e+00, 3.63366096e+00, 3.62865606e+00, 3.62365115e+00,\n",
       "       3.61864625e+00, 3.61364134e+00, 3.60863644e+00, 3.60363153e+00,\n",
       "       3.59862663e+00, 3.59362172e+00, 3.58861682e+00, 3.58361191e+00,\n",
       "       3.57860701e+00, 3.57360210e+00, 3.56859720e+00, 3.56359229e+00,\n",
       "       3.55858739e+00, 3.55358248e+00, 3.54857758e+00, 3.54357267e+00,\n",
       "       3.53856777e+00, 3.53356286e+00, 3.52855796e+00, 3.52355305e+00,\n",
       "       3.51854815e+00, 3.51354324e+00, 3.50853834e+00, 3.50353343e+00,\n",
       "       3.49852853e+00, 3.49352362e+00, 3.48851872e+00, 3.48351381e+00,\n",
       "       3.47850891e+00, 3.47350400e+00, 3.46849910e+00, 3.46349419e+00,\n",
       "       3.45848929e+00, 3.45348438e+00, 3.44847948e+00, 3.44347457e+00,\n",
       "       3.43846967e+00, 3.43346476e+00, 3.42845986e+00, 3.42345495e+00,\n",
       "       3.41845005e+00, 3.41344515e+00, 3.40844024e+00, 3.40343534e+00,\n",
       "       3.39843043e+00, 3.39342553e+00, 3.38842062e+00, 3.38341572e+00,\n",
       "       3.37841081e+00, 3.37340591e+00, 3.36840100e+00, 3.36339610e+00,\n",
       "       3.35839119e+00, 3.35338629e+00, 3.34838138e+00, 3.34337648e+00,\n",
       "       3.33837157e+00, 3.33336667e+00, 3.32836176e+00, 3.32335686e+00,\n",
       "       3.31835195e+00, 3.31334705e+00, 3.30834214e+00, 3.30333724e+00,\n",
       "       3.29833233e+00, 3.29332743e+00, 3.28832252e+00, 3.28331762e+00,\n",
       "       3.27831271e+00, 3.27330781e+00, 3.26830290e+00, 3.26329800e+00,\n",
       "       3.25829309e+00, 3.25328819e+00, 3.24828328e+00, 3.24327838e+00,\n",
       "       3.23827347e+00, 3.23326857e+00, 3.22826366e+00, 3.22325876e+00,\n",
       "       3.21825385e+00, 3.21324895e+00, 3.20824404e+00, 3.20323914e+00,\n",
       "       3.19823423e+00, 3.19322933e+00, 3.18822442e+00, 3.18321952e+00,\n",
       "       3.17821461e+00, 3.17320971e+00, 3.16820480e+00, 3.16319990e+00,\n",
       "       3.15819499e+00, 3.15319009e+00, 3.14818519e+00, 3.14318028e+00,\n",
       "       3.13817538e+00, 3.13317047e+00, 3.12816557e+00, 3.12316066e+00,\n",
       "       3.11815576e+00, 3.11315085e+00, 3.10814595e+00, 3.10314104e+00,\n",
       "       3.09813614e+00, 3.09313123e+00, 3.08812633e+00, 3.08312142e+00,\n",
       "       3.07811652e+00, 3.07311161e+00, 3.06810671e+00, 3.06310180e+00,\n",
       "       3.05809690e+00, 3.05309199e+00, 3.04808709e+00, 3.04308218e+00,\n",
       "       3.03807728e+00, 3.03307237e+00, 3.02806747e+00, 3.02306256e+00,\n",
       "       3.01805766e+00, 3.01305275e+00, 3.00804785e+00, 3.00304294e+00,\n",
       "       2.99803804e+00, 2.99303313e+00, 2.98802823e+00, 2.98302332e+00,\n",
       "       2.97801842e+00, 2.97301351e+00, 2.96800861e+00, 2.96300370e+00,\n",
       "       2.95799880e+00, 2.95299389e+00, 2.94798899e+00, 2.94298408e+00,\n",
       "       2.93797918e+00, 2.93297427e+00, 2.92796937e+00, 2.92296446e+00,\n",
       "       2.91795956e+00, 2.91295465e+00, 2.90794975e+00, 2.90294484e+00,\n",
       "       2.89793994e+00, 2.89293504e+00, 2.88793013e+00, 2.88292523e+00,\n",
       "       2.87792032e+00, 2.87291542e+00, 2.86791051e+00, 2.86290561e+00,\n",
       "       2.85790070e+00, 2.85289580e+00, 2.84789089e+00, 2.84288599e+00,\n",
       "       2.83788108e+00, 2.83287618e+00, 2.82787127e+00, 2.82286637e+00,\n",
       "       2.81786146e+00, 2.81285656e+00, 2.80785165e+00, 2.80284675e+00,\n",
       "       2.79784184e+00, 2.79283694e+00, 2.78783203e+00, 2.78282713e+00,\n",
       "       2.77782222e+00, 2.77281732e+00, 2.76781241e+00, 2.76280751e+00,\n",
       "       2.75780260e+00, 2.75279770e+00, 2.74779279e+00, 2.74278789e+00,\n",
       "       2.73778298e+00, 2.73277808e+00, 2.72777317e+00, 2.72276827e+00,\n",
       "       2.71776336e+00, 2.71275846e+00, 2.70775355e+00, 2.70274865e+00,\n",
       "       2.69774374e+00, 2.69273884e+00, 2.68773393e+00, 2.68272903e+00,\n",
       "       2.67772412e+00, 2.67271922e+00, 2.66771431e+00, 2.66270941e+00,\n",
       "       2.65770450e+00, 2.65269960e+00, 2.64769469e+00, 2.64268979e+00,\n",
       "       2.63768488e+00, 2.63267998e+00, 2.62767508e+00, 2.62267017e+00,\n",
       "       2.61766527e+00, 2.61266036e+00, 2.60765546e+00, 2.60265055e+00,\n",
       "       2.59764565e+00, 2.59264074e+00, 2.58763584e+00, 2.58263093e+00,\n",
       "       2.57762603e+00, 2.57262112e+00, 2.56761622e+00, 2.56261131e+00,\n",
       "       2.55760641e+00, 2.55260150e+00, 2.54759660e+00, 2.54259169e+00,\n",
       "       2.53758679e+00, 2.53258188e+00, 2.52757698e+00, 2.52257207e+00,\n",
       "       2.51756717e+00, 2.51256226e+00, 2.50755736e+00, 2.50255245e+00,\n",
       "       2.49754755e+00, 2.49254264e+00, 2.48753774e+00, 2.48253283e+00,\n",
       "       2.47752793e+00, 2.47252302e+00, 2.46751812e+00, 2.46251321e+00,\n",
       "       2.45750831e+00, 2.45250340e+00, 2.44749850e+00, 2.44249359e+00,\n",
       "       2.43748869e+00, 2.43248378e+00, 2.42747888e+00, 2.42247397e+00,\n",
       "       2.41746907e+00, 2.41246416e+00, 2.40745926e+00, 2.40245435e+00,\n",
       "       2.39744945e+00, 2.39244454e+00, 2.38743964e+00, 2.38243473e+00,\n",
       "       2.37742983e+00, 2.37242492e+00, 2.36742002e+00, 2.36241512e+00,\n",
       "       2.35741021e+00, 2.35240531e+00, 2.34740040e+00, 2.34239550e+00,\n",
       "       2.33739059e+00, 2.33238569e+00, 2.32738078e+00, 2.32237588e+00,\n",
       "       2.31737097e+00, 2.31236607e+00, 2.30736116e+00, 2.30235626e+00,\n",
       "       2.29735135e+00, 2.29234645e+00, 2.28734154e+00, 2.28233664e+00,\n",
       "       2.27733173e+00, 2.27232683e+00, 2.26732192e+00, 2.26231702e+00,\n",
       "       2.25731211e+00, 2.25230721e+00, 2.24730230e+00, 2.24229740e+00,\n",
       "       2.23729249e+00, 2.23228759e+00, 2.22728268e+00, 2.22227778e+00,\n",
       "       2.21727287e+00, 2.21226797e+00, 2.20726306e+00, 2.20225816e+00,\n",
       "       2.19725325e+00, 2.19224835e+00, 2.18724344e+00, 2.18223854e+00,\n",
       "       2.17723363e+00, 2.17222873e+00, 2.16722382e+00, 2.16221892e+00,\n",
       "       2.15721401e+00, 2.15220911e+00, 2.14720420e+00, 2.14219930e+00,\n",
       "       2.13719439e+00, 2.13218949e+00, 2.12718458e+00, 2.12217968e+00,\n",
       "       2.11717477e+00, 2.11216987e+00, 2.10716496e+00, 2.10216006e+00,\n",
       "       2.09715516e+00, 2.09215025e+00, 2.08714535e+00, 2.08214044e+00,\n",
       "       2.07713554e+00, 2.07213063e+00, 2.06712573e+00, 2.06212082e+00,\n",
       "       2.05711592e+00, 2.05211101e+00, 2.04710611e+00, 2.04210120e+00,\n",
       "       2.03709630e+00, 2.03209139e+00, 2.02708649e+00, 2.02208158e+00,\n",
       "       2.01707668e+00, 2.01207177e+00, 2.00706687e+00, 2.00206196e+00,\n",
       "       1.99705706e+00, 1.99205215e+00, 1.98704725e+00, 1.98204234e+00,\n",
       "       1.97703744e+00, 1.97203253e+00, 1.96702763e+00, 1.96202272e+00,\n",
       "       1.95701782e+00, 1.95201291e+00, 1.94700801e+00, 1.94200310e+00,\n",
       "       1.93699820e+00, 1.93199329e+00, 1.92698839e+00, 1.92198348e+00,\n",
       "       1.91697858e+00, 1.91197367e+00, 1.90696877e+00, 1.90196386e+00,\n",
       "       1.89695896e+00, 1.89195405e+00, 1.88694915e+00, 1.88194424e+00,\n",
       "       1.87693934e+00, 1.87193443e+00, 1.86692953e+00, 1.86192462e+00,\n",
       "       1.85691972e+00, 1.85191481e+00, 1.84690991e+00, 1.84190501e+00,\n",
       "       1.83690010e+00, 1.83189520e+00, 1.82689029e+00, 1.82188539e+00,\n",
       "       1.81688048e+00, 1.81187558e+00, 1.80687067e+00, 1.80186577e+00,\n",
       "       1.79686086e+00, 1.79185596e+00, 1.78685105e+00, 1.78184615e+00,\n",
       "       1.77684124e+00, 1.77183634e+00, 1.76683143e+00, 1.76182653e+00,\n",
       "       1.75682162e+00, 1.75181672e+00, 1.74681181e+00, 1.74180691e+00,\n",
       "       1.73680200e+00, 1.73179710e+00, 1.72679219e+00, 1.72178729e+00,\n",
       "       1.71678238e+00, 1.71177748e+00, 1.70677257e+00, 1.70176767e+00,\n",
       "       1.69676276e+00, 1.69175786e+00, 1.68675295e+00, 1.68174805e+00,\n",
       "       1.67674314e+00, 1.67173824e+00, 1.66673333e+00, 1.66172843e+00,\n",
       "       1.65672352e+00, 1.65171862e+00, 1.64671371e+00, 1.64170881e+00,\n",
       "       1.63670390e+00, 1.63169900e+00, 1.62669409e+00, 1.62168919e+00,\n",
       "       1.61668428e+00, 1.61167938e+00, 1.60667447e+00, 1.60166957e+00,\n",
       "       1.59666466e+00, 1.59165976e+00, 1.58665485e+00, 1.58164995e+00,\n",
       "       1.57664505e+00, 1.57164014e+00, 1.56663524e+00, 1.56163033e+00,\n",
       "       1.55662543e+00, 1.55162052e+00, 1.54661562e+00, 1.54161071e+00,\n",
       "       1.53660581e+00, 1.53160090e+00, 1.52659600e+00, 1.52159109e+00,\n",
       "       1.51658619e+00, 1.51158128e+00, 1.50657638e+00, 1.50157147e+00,\n",
       "       1.49656657e+00, 1.49156166e+00, 1.48655676e+00, 1.48155185e+00,\n",
       "       1.47654695e+00, 1.47154204e+00, 1.46653714e+00, 1.46153223e+00,\n",
       "       1.45652733e+00, 1.45152242e+00, 1.44651752e+00, 1.44151261e+00,\n",
       "       1.43650771e+00, 1.43150280e+00, 1.42649790e+00, 1.42149299e+00,\n",
       "       1.41648809e+00, 1.41148318e+00, 1.40647828e+00, 1.40147337e+00,\n",
       "       1.39646847e+00, 1.39146356e+00, 1.38645866e+00, 1.38145375e+00,\n",
       "       1.37644885e+00, 1.37144394e+00, 1.36643904e+00, 1.36143413e+00,\n",
       "       1.35642923e+00, 1.35142432e+00, 1.34641942e+00, 1.34141451e+00,\n",
       "       1.33640961e+00, 1.33140470e+00, 1.32639980e+00, 1.32139489e+00,\n",
       "       1.31638999e+00, 1.31138509e+00, 1.30638018e+00, 1.30137528e+00,\n",
       "       1.29637037e+00, 1.29136547e+00, 1.28636056e+00, 1.28135566e+00,\n",
       "       1.27635075e+00, 1.27134585e+00, 1.26634094e+00, 1.26133604e+00,\n",
       "       1.25633113e+00, 1.25132623e+00, 1.24632132e+00, 1.24131642e+00,\n",
       "       1.23631151e+00, 1.23130661e+00, 1.22630170e+00, 1.22129680e+00,\n",
       "       1.21629189e+00, 1.21128699e+00, 1.20628208e+00, 1.20127718e+00,\n",
       "       1.19627227e+00, 1.19126737e+00, 1.18626246e+00, 1.18125756e+00,\n",
       "       1.17625265e+00, 1.17124775e+00, 1.16624284e+00, 1.16123794e+00,\n",
       "       1.15623303e+00, 1.15122813e+00, 1.14622322e+00, 1.14121832e+00,\n",
       "       1.13621341e+00, 1.13120851e+00, 1.12620360e+00, 1.12119870e+00,\n",
       "       1.11619379e+00, 1.11118889e+00, 1.10618398e+00, 1.10117908e+00,\n",
       "       1.09617417e+00, 1.09116927e+00, 1.08616436e+00, 1.08115946e+00,\n",
       "       1.07615455e+00, 1.07114965e+00, 1.06614474e+00, 1.06113984e+00,\n",
       "       1.05613493e+00, 1.05113003e+00, 1.04612513e+00, 1.04112022e+00,\n",
       "       1.03611532e+00, 1.03111041e+00, 1.02610551e+00, 1.02110060e+00,\n",
       "       1.01609570e+00, 1.01109079e+00, 1.00608589e+00, 1.00108098e+00,\n",
       "       9.96076076e-01, 9.91071171e-01, 9.86066266e-01, 9.81061361e-01,\n",
       "       9.76056456e-01, 9.71051552e-01, 9.66046647e-01, 9.61041742e-01,\n",
       "       9.56036837e-01, 9.51031932e-01, 9.46027027e-01, 9.41022122e-01,\n",
       "       9.36017217e-01, 9.31012312e-01, 9.26007407e-01, 9.21002503e-01,\n",
       "       9.15997598e-01, 9.10992693e-01, 9.05987788e-01, 9.00982883e-01,\n",
       "       8.95977978e-01, 8.90973073e-01, 8.85968168e-01, 8.80963263e-01,\n",
       "       8.75958358e-01, 8.70953453e-01, 8.65948549e-01, 8.60943644e-01,\n",
       "       8.55938739e-01, 8.50933834e-01, 8.45928929e-01, 8.40924024e-01,\n",
       "       8.35919119e-01, 8.30914214e-01, 8.25909309e-01, 8.20904404e-01,\n",
       "       8.15899499e-01, 8.10894595e-01, 8.05889690e-01, 8.00884785e-01,\n",
       "       7.95879880e-01, 7.90874975e-01, 7.85870070e-01, 7.80865165e-01,\n",
       "       7.75860260e-01, 7.70855355e-01, 7.65850450e-01, 7.60845546e-01,\n",
       "       7.55840641e-01, 7.50835736e-01, 7.45830831e-01, 7.40825926e-01,\n",
       "       7.35821021e-01, 7.30816116e-01, 7.25811211e-01, 7.20806306e-01,\n",
       "       7.15801401e-01, 7.10796496e-01, 7.05791592e-01, 7.00786687e-01,\n",
       "       6.95781782e-01, 6.90776877e-01, 6.85771972e-01, 6.80767067e-01,\n",
       "       6.75762162e-01, 6.70757257e-01, 6.65752352e-01, 6.60747447e-01,\n",
       "       6.55742543e-01, 6.50737638e-01, 6.45732733e-01, 6.40727828e-01,\n",
       "       6.35722923e-01, 6.30718018e-01, 6.25713113e-01, 6.20708208e-01,\n",
       "       6.15703303e-01, 6.10698398e-01, 6.05693493e-01, 6.00688589e-01,\n",
       "       5.95683684e-01, 5.90678779e-01, 5.85673874e-01, 5.80668969e-01,\n",
       "       5.75664064e-01, 5.70659159e-01, 5.65654254e-01, 5.60649349e-01,\n",
       "       5.55644444e-01, 5.50639540e-01, 5.45634635e-01, 5.40629730e-01,\n",
       "       5.35624825e-01, 5.30619920e-01, 5.25615015e-01, 5.20610110e-01,\n",
       "       5.15605205e-01, 5.10600300e-01, 5.05595395e-01, 5.00590490e-01,\n",
       "       4.95585586e-01, 4.90580681e-01, 4.85575776e-01, 4.80570871e-01,\n",
       "       4.75565966e-01, 4.70561061e-01, 4.65556156e-01, 4.60551251e-01,\n",
       "       4.55546346e-01, 4.50541441e-01, 4.45536537e-01, 4.40531632e-01,\n",
       "       4.35526727e-01, 4.30521822e-01, 4.25516917e-01, 4.20512012e-01,\n",
       "       4.15507107e-01, 4.10502202e-01, 4.05497297e-01, 4.00492392e-01,\n",
       "       3.95487487e-01, 3.90482583e-01, 3.85477678e-01, 3.80472773e-01,\n",
       "       3.75467868e-01, 3.70462963e-01, 3.65458058e-01, 3.60453153e-01,\n",
       "       3.55448248e-01, 3.50443343e-01, 3.45438438e-01, 3.40433534e-01,\n",
       "       3.35428629e-01, 3.30423724e-01, 3.25418819e-01, 3.20413914e-01,\n",
       "       3.15409009e-01, 3.10404104e-01, 3.05399199e-01, 3.00394294e-01,\n",
       "       2.95389389e-01, 2.90384484e-01, 2.85379580e-01, 2.80374675e-01,\n",
       "       2.75369770e-01, 2.70364865e-01, 2.65359960e-01, 2.60355055e-01,\n",
       "       2.55350150e-01, 2.50345245e-01, 2.45340340e-01, 2.40335435e-01,\n",
       "       2.35330531e-01, 2.30325626e-01, 2.25320721e-01, 2.20315816e-01,\n",
       "       2.15310911e-01, 2.10306006e-01, 2.05301101e-01, 2.00296196e-01,\n",
       "       1.95291291e-01, 1.90286386e-01, 1.85281481e-01, 1.80276577e-01,\n",
       "       1.75271672e-01, 1.70266767e-01, 1.65261862e-01, 1.60256957e-01,\n",
       "       1.55252052e-01, 1.50247147e-01, 1.45242242e-01, 1.40237337e-01,\n",
       "       1.35232432e-01, 1.30227528e-01, 1.25222623e-01, 1.20217718e-01,\n",
       "       1.15212813e-01, 1.10207908e-01, 1.05203003e-01, 1.00198098e-01,\n",
       "       9.51931932e-02, 9.01882883e-02, 8.51833834e-02, 8.01784785e-02,\n",
       "       7.51735736e-02, 7.01686687e-02, 6.51637638e-02, 6.01588589e-02,\n",
       "       5.51539540e-02, 5.01490490e-02, 4.51441441e-02, 4.01392392e-02,\n",
       "       3.51343343e-02, 3.01294294e-02, 2.51245245e-02, 2.01196196e-02,\n",
       "       1.51147147e-02, 1.01098098e-02, 5.10490490e-03, 1.00000000e-04])"
      ]
     },
     "execution_count": 861,
     "metadata": {},
     "output_type": "execute_result"
    }
   ],
   "source": [
    "rs"
   ]
  },
  {
   "cell_type": "code",
   "execution_count": 862,
   "metadata": {},
   "outputs": [],
   "source": [
    "avg_nb_dist = []\n",
    "std_nb_dist = []\n",
    "for r in rs: \n",
    "    distances = neighbour_distance(x, r)\n",
    "    avg_nb_dist.append(distances.mean())\n",
    "    std_nb_dist.append(distances.std())\n",
    "\n",
    "avg_nb_dist = np.array(avg_nb_dist)\n",
    "std_nb_dist = np.array(std_nb_dist)"
   ]
  },
  {
   "cell_type": "code",
   "execution_count": 863,
   "metadata": {},
   "outputs": [
    {
     "data": {
      "image/png": "[encoded data removed]",
      "text/plain": [
       "<Figure size 600x400 with 1 Axes>"
      ]
     },
     "metadata": {},
     "output_type": "display_data"
    }
   ],
   "source": [
    "plt.figure(figsize=(6, 4))\n",
    "#plt.errorbar(rs, avg_nb_dist, yerr=std_nb_dist, fmt='o', ecolor='Grey', capsize=3, linestyle='None', markersize=5, label='Data points')\n",
    "# Plot the mean line\n",
    "plt.plot(rs, avg_nb_dist)\n",
    "\n",
    "# Plot the shaded area for standard deviation\n",
    "plt.fill_between(rs, avg_nb_dist - std_nb_dist, avg_nb_dist + std_nb_dist, color='gray', alpha=0.2, label='$\\sigma$')\n",
    "\n",
    "plt.xlabel('Sphere radius')\n",
    "plt.ylabel('Avg neighbour distance')\n",
    "plt.title(r'Avg neighbour distance for $\\mathcal{S}$ points')\n",
    "plt.legend()\n",
    "plt.grid(True)\n",
    "plt.show()"
   ]
  },
  {
   "cell_type": "code",
   "execution_count": 855,
   "metadata": {},
   "outputs": [
    {
     "name": "stderr",
     "output_type": "stream",
     "text": [
      "python(92203) MallocStackLogging: can't turn off malloc stack logging because it was not enabled.\n",
      "python(92204) MallocStackLogging: can't turn off malloc stack logging because it was not enabled.\n",
      "python(92205) MallocStackLogging: can't turn off malloc stack logging because it was not enabled.\n",
      "python(92206) MallocStackLogging: can't turn off malloc stack logging because it was not enabled.\n",
      "python(92209) MallocStackLogging: can't turn off malloc stack logging because it was not enabled.\n",
      "python(92210) MallocStackLogging: can't turn off malloc stack logging because it was not enabled.\n",
      "python(92211) MallocStackLogging: can't turn off malloc stack logging because it was not enabled.\n",
      "python(92212) MallocStackLogging: can't turn off malloc stack logging because it was not enabled.\n",
      "python(92213) MallocStackLogging: can't turn off malloc stack logging because it was not enabled.\n",
      "python(92214) MallocStackLogging: can't turn off malloc stack logging because it was not enabled.\n",
      "python(92215) MallocStackLogging: can't turn off malloc stack logging because it was not enabled.\n",
      "python(92216) MallocStackLogging: can't turn off malloc stack logging because it was not enabled.\n",
      "python(92217) MallocStackLogging: can't turn off malloc stack logging because it was not enabled.\n",
      "python(92218) MallocStackLogging: can't turn off malloc stack logging because it was not enabled.\n",
      "python(92219) MallocStackLogging: can't turn off malloc stack logging because it was not enabled.\n",
      "python(92220) MallocStackLogging: can't turn off malloc stack logging because it was not enabled.\n"
     ]
    },
    {
     "data": {
      "image/png": "[encoded data removed]",
      "text/plain": [
       "<Figure size 600x400 with 1 Axes>"
      ]
     },
     "metadata": {},
     "output_type": "display_data"
    }
   ],
   "source": [
    "plt.figure(figsize=(6, 4))\n",
    "#plt.errorbar(rs, avg_nb_dist, yerr=std_nb_dist, fmt='o', ecolor='Grey', capsize=3, linestyle='None', markersize=5, label='Data points')\n",
    "# Plot the mean line\n",
    "plt.plot(rs, avg_nb_dist)\n",
    "\n",
    "# Plot the shaded area for standard deviation\n",
    "plt.fill_between(rs, avg_nb_dist - std_nb_dist, avg_nb_dist + std_nb_dist, color='gray', alpha=0.2, label='$\\sigma$')\n",
    "\n",
    "plt.xlabel('Sphere radius')\n",
    "plt.ylabel('Avg neighbour distance')\n",
    "plt.title(r'Avg neighbour distance for $\\mathcal{S}$ points')\n",
    "plt.legend()\n",
    "plt.grid(True)\n",
    "plt.show()"
   ]
  },
  {
   "cell_type": "code",
   "execution_count": null,
   "metadata": {},
   "outputs": [],
   "source": []
  }
 ],
 "metadata": {
  "kernelspec": {
   "display_name": "Python 3 (ipykernel)",
   "language": "python",
   "name": "python3"
  }
 },
 "nbformat": 4,
 "nbformat_minor": 2
}
